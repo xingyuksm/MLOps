{
 "cells": [
  {
   "cell_type": "markdown",
   "id": "b290ff4e-7936-45e5-8653-5939183d63f5",
   "metadata": {},
   "source": [
    "# MLOps Example"
   ]
  },
  {
   "cell_type": "markdown",
   "id": "6c0b4e55-8a4b-4ded-b330-8440a2eb429f",
   "metadata": {},
   "source": [
    "This is an example of a machine learning workflow within a notebook.  \n",
    "We will example each step in this notebook.  \n",
    "And later on we decompose each step and containerized them as components for building a ML pipeline."
   ]
  },
  {
   "cell_type": "code",
   "execution_count": 1,
   "id": "44366604-4bdd-4bc7-ad08-126de75ddd83",
   "metadata": {
    "tags": []
   },
   "outputs": [
    {
     "name": "stdout",
     "output_type": "stream",
     "text": [
      "Requirement already satisfied: scikit-learn in /opt/conda/lib/python3.9/site-packages (0.24.2)\n",
      "Requirement already satisfied: joblib>=0.11 in /opt/conda/lib/python3.9/site-packages (from scikit-learn) (1.0.1)\n",
      "Requirement already satisfied: threadpoolctl>=2.0.0 in /opt/conda/lib/python3.9/site-packages (from scikit-learn) (2.2.0)\n",
      "Requirement already satisfied: scipy>=0.19.1 in /opt/conda/lib/python3.9/site-packages (from scikit-learn) (1.7.1)\n",
      "Requirement already satisfied: numpy>=1.13.3 in /opt/conda/lib/python3.9/site-packages (from scikit-learn) (1.21.2)\n",
      "Requirement already satisfied: pandas in /opt/conda/lib/python3.9/site-packages (1.3.2)\n",
      "Requirement already satisfied: numpy>=1.17.3 in /opt/conda/lib/python3.9/site-packages (from pandas) (1.21.2)\n",
      "Requirement already satisfied: pytz>=2017.3 in /opt/conda/lib/python3.9/site-packages (from pandas) (2021.1)\n",
      "Requirement already satisfied: python-dateutil>=2.7.3 in /opt/conda/lib/python3.9/site-packages (from pandas) (2.8.2)\n",
      "Requirement already satisfied: six>=1.5 in /opt/conda/lib/python3.9/site-packages (from python-dateutil>=2.7.3->pandas) (1.16.0)\n",
      "Requirement already satisfied: xgboost in /opt/conda/lib/python3.9/site-packages (1.4.2)\n",
      "Requirement already satisfied: numpy in /opt/conda/lib/python3.9/site-packages (from xgboost) (1.21.2)\n",
      "Requirement already satisfied: scipy in /opt/conda/lib/python3.9/site-packages (from xgboost) (1.7.1)\n",
      "Requirement already satisfied: matplotlib in /opt/conda/lib/python3.9/site-packages (3.4.3)\n",
      "Requirement already satisfied: kiwisolver>=1.0.1 in /opt/conda/lib/python3.9/site-packages (from matplotlib) (1.3.2)\n",
      "Requirement already satisfied: pillow>=6.2.0 in /opt/conda/lib/python3.9/site-packages (from matplotlib) (8.3.1)\n",
      "Requirement already satisfied: numpy>=1.16 in /opt/conda/lib/python3.9/site-packages (from matplotlib) (1.21.2)\n",
      "Requirement already satisfied: cycler>=0.10 in /opt/conda/lib/python3.9/site-packages (from matplotlib) (0.10.0)\n",
      "Requirement already satisfied: pyparsing>=2.2.1 in /opt/conda/lib/python3.9/site-packages (from matplotlib) (2.4.7)\n",
      "Requirement already satisfied: python-dateutil>=2.7 in /opt/conda/lib/python3.9/site-packages (from matplotlib) (2.8.2)\n",
      "Requirement already satisfied: six in /opt/conda/lib/python3.9/site-packages (from cycler>=0.10->matplotlib) (1.16.0)\n"
     ]
    }
   ],
   "source": [
    "# install packages\n",
    "!pip3 install -U scikit-learn\n",
    "!pip3 install pandas\n",
    "!pip3 install xgboost\n",
    "!pip3 install matplotlib"
   ]
  },
  {
   "cell_type": "code",
   "execution_count": 2,
   "id": "0006cea1-2315-4203-a23c-269c9f0d7260",
   "metadata": {},
   "outputs": [],
   "source": [
    "# imports\n",
    "import pickle\n",
    "import pathlib\n",
    "import requests\n",
    "import pandas as pd\n",
    "from sklearn.model_selection import train_test_split\n",
    "from sklearn.metrics import auc, accuracy_score, confusion_matrix, mean_squared_error\n",
    "from sklearn import preprocessing\n",
    "import xgboost as xgb\n",
    "from xgboost import plot_tree\n",
    "from matplotlib import pyplot as plt\n",
    "import numpy as np"
   ]
  },
  {
   "cell_type": "markdown",
   "id": "0f60b5b5-7aa6-4834-a6af-7b6239206c0e",
   "metadata": {},
   "source": [
    "## 1.0 Data Input"
   ]
  },
  {
   "cell_type": "markdown",
   "id": "8a5fd227-a416-4fa7-9c76-30162b5bcee3",
   "metadata": {},
   "source": [
    "In this step, the training data for training a machine learning model is ingested and stored."
   ]
  },
  {
   "cell_type": "code",
   "execution_count": 3,
   "id": "bbd781a5-f3f5-4ef9-9eaa-2edc6c59cdf1",
   "metadata": {},
   "outputs": [],
   "source": [
    "def data_ingestion(url, output_path='new_data.txt'):\n",
    "    '''The function fetches data by given URL.\n",
    "    \n",
    "    '''\n",
    "    \n",
    "    p = pathlib.Path('.')\n",
    "    p = p / output_path\n",
    "    if p.exists():\n",
    "        print('Output file already exists.')\n",
    "        with open(p, 'r') as f:\n",
    "            ret = f.read()\n",
    "    else:\n",
    "        with open(p, 'w') as f:\n",
    "            r = requests.get(url)\n",
    "            f.write(r.text)\n",
    "            ret = r.text\n",
    "        \n",
    "    return ret"
   ]
  },
  {
   "cell_type": "code",
   "execution_count": 4,
   "id": "369567da-cac1-4cc5-b3a2-09a359bde447",
   "metadata": {},
   "outputs": [],
   "source": [
    "# The url links to the IRIS dataset\n",
    "url = 'https://gist.githubusercontent.com/netj/8836201/raw/6f9306ad21398ea43cba4f7d537619d0e07d5ae3/iris.csv'"
   ]
  },
  {
   "cell_type": "code",
   "execution_count": 5,
   "id": "592a25b9-7bb9-47d4-876f-2c66723a3dd8",
   "metadata": {},
   "outputs": [
    {
     "name": "stdout",
     "output_type": "stream",
     "text": [
      "Output file already exists.\n"
     ]
    }
   ],
   "source": [
    "# Get the file and store at default output path\n",
    "data = data_ingestion(url)"
   ]
  },
  {
   "cell_type": "code",
   "execution_count": 6,
   "id": "dc8b46c9-8b43-4645-b3af-76333597622a",
   "metadata": {},
   "outputs": [
    {
     "data": {
      "text/plain": [
       "'\"sepal.length\",\"sepal.width\",\"petal.length\",\"petal.width\",\"variety\"\\n5.1,3.5,1.4,.2,\"Setosa\"\\n4.9,3,1.4,.2,\"Setosa\"\\n4.7,3.2,1.3,.2,\"Setosa\"\\n4.6,3.1,1.5,.2,\"Setosa\"\\n5,3.6,1.4,.2,\"Setosa\"\\n5.4,3.9,1.7,.4,\"Setosa\"\\n4.6,3.4,1.4,.3,\"Setosa\"\\n5,3.4,1.5,.2,\"Setosa\"\\n4.4,2.9,1.4,.2,\"Setosa\"\\n4.9,3.1,1.5,.1,\"Setosa\"\\n5.4,3.7,1.5,.2,\"Setosa\"\\n4.8,3.4,1.6,.2,\"Setosa\"\\n4.8,3,1.4,.1,\"Setosa\"\\n4.3,3,1.1,.1,\"Setosa\"\\n5.8,4,1.2,.2,\"Setosa\"\\n5.7,4.4,1.5,.4,\"Setosa\"\\n5.4,3.9,1.3,.4,\"Setosa\"\\n5.1,3.5,1.4,.3,\"Setosa\"\\n5.7,3.8,1.7,.3,\"Setosa\"\\n5.1,3.8,1.5,.3,\"Setosa\"\\n5.4,3.4,1.7,.2,\"Setosa\"\\n5.1,3.7,1.5,.4,\"Setosa\"\\n4.6,3.6,1,.2,\"Setosa\"\\n5.1,3.3,1.7,.5,\"Setosa\"\\n4.8,3.4,1.9,.2,\"Setosa\"\\n5,3,1.6,.2,\"Setosa\"\\n5,3.4,1.6,.4,\"Setosa\"\\n5.2,3.5,1.5,.2,\"Setosa\"\\n5.2,3.4,1.4,.2,\"Setosa\"\\n4.7,3.2,1.6,.2,\"Setosa\"\\n4.8,3.1,1.6,.2,\"Setosa\"\\n5.4,3.4,1.5,.4,\"Setosa\"\\n5.2,4.1,1.5,.1,\"Setosa\"\\n5.5,4.2,1.4,.2,\"Setosa\"\\n4.9,3.1,1.5,.2,\"Setosa\"\\n5,3.2,1.2,.2,\"Setosa\"\\n5.5,3.5,1.3,.2,\"Setosa\"\\n4.9,3.6,1.4,.1,\"Setosa\"\\n4.4,3,1.3,.2,\"Setosa\"\\n5.1,3.4,1.5,.2,\"Setosa\"\\n5,3.5,1.3,.3,\"Setosa\"\\n4.5,2.3,1.3,.3,\"Setosa\"\\n4.4,3.2,1.3,.2,\"Setosa\"\\n5,3.5,1.6,.6,\"Setosa\"\\n5.1,3.8,1.9,.4,\"Setosa\"\\n4.8,3,1.4,.3,\"Setosa\"\\n5.1,3.8,1.6,.2,\"Setosa\"\\n4.6,3.2,1.4,.2,\"Setosa\"\\n5.3,3.7,1.5,.2,\"Setosa\"\\n5,3.3,1.4,.2,\"Setosa\"\\n7,3.2,4.7,1.4,\"Versicolor\"\\n6.4,3.2,4.5,1.5,\"Versicolor\"\\n6.9,3.1,4.9,1.5,\"Versicolor\"\\n5.5,2.3,4,1.3,\"Versicolor\"\\n6.5,2.8,4.6,1.5,\"Versicolor\"\\n5.7,2.8,4.5,1.3,\"Versicolor\"\\n6.3,3.3,4.7,1.6,\"Versicolor\"\\n4.9,2.4,3.3,1,\"Versicolor\"\\n6.6,2.9,4.6,1.3,\"Versicolor\"\\n5.2,2.7,3.9,1.4,\"Versicolor\"\\n5,2,3.5,1,\"Versicolor\"\\n5.9,3,4.2,1.5,\"Versicolor\"\\n6,2.2,4,1,\"Versicolor\"\\n6.1,2.9,4.7,1.4,\"Versicolor\"\\n5.6,2.9,3.6,1.3,\"Versicolor\"\\n6.7,3.1,4.4,1.4,\"Versicolor\"\\n5.6,3,4.5,1.5,\"Versicolor\"\\n5.8,2.7,4.1,1,\"Versicolor\"\\n6.2,2.2,4.5,1.5,\"Versicolor\"\\n5.6,2.5,3.9,1.1,\"Versicolor\"\\n5.9,3.2,4.8,1.8,\"Versicolor\"\\n6.1,2.8,4,1.3,\"Versicolor\"\\n6.3,2.5,4.9,1.5,\"Versicolor\"\\n6.1,2.8,4.7,1.2,\"Versicolor\"\\n6.4,2.9,4.3,1.3,\"Versicolor\"\\n6.6,3,4.4,1.4,\"Versicolor\"\\n6.8,2.8,4.8,1.4,\"Versicolor\"\\n6.7,3,5,1.7,\"Versicolor\"\\n6,2.9,4.5,1.5,\"Versicolor\"\\n5.7,2.6,3.5,1,\"Versicolor\"\\n5.5,2.4,3.8,1.1,\"Versicolor\"\\n5.5,2.4,3.7,1,\"Versicolor\"\\n5.8,2.7,3.9,1.2,\"Versicolor\"\\n6,2.7,5.1,1.6,\"Versicolor\"\\n5.4,3,4.5,1.5,\"Versicolor\"\\n6,3.4,4.5,1.6,\"Versicolor\"\\n6.7,3.1,4.7,1.5,\"Versicolor\"\\n6.3,2.3,4.4,1.3,\"Versicolor\"\\n5.6,3,4.1,1.3,\"Versicolor\"\\n5.5,2.5,4,1.3,\"Versicolor\"\\n5.5,2.6,4.4,1.2,\"Versicolor\"\\n6.1,3,4.6,1.4,\"Versicolor\"\\n5.8,2.6,4,1.2,\"Versicolor\"\\n5,2.3,3.3,1,\"Versicolor\"\\n5.6,2.7,4.2,1.3,\"Versicolor\"\\n5.7,3,4.2,1.2,\"Versicolor\"\\n5.7,2.9,4.2,1.3,\"Versicolor\"\\n6.2,2.9,4.3,1.3,\"Versicolor\"\\n5.1,2.5,3,1.1,\"Versicolor\"\\n5.7,2.8,4.1,1.3,\"Versicolor\"\\n6.3,3.3,6,2.5,\"Virginica\"\\n5.8,2.7,5.1,1.9,\"Virginica\"\\n7.1,3,5.9,2.1,\"Virginica\"\\n6.3,2.9,5.6,1.8,\"Virginica\"\\n6.5,3,5.8,2.2,\"Virginica\"\\n7.6,3,6.6,2.1,\"Virginica\"\\n4.9,2.5,4.5,1.7,\"Virginica\"\\n7.3,2.9,6.3,1.8,\"Virginica\"\\n6.7,2.5,5.8,1.8,\"Virginica\"\\n7.2,3.6,6.1,2.5,\"Virginica\"\\n6.5,3.2,5.1,2,\"Virginica\"\\n6.4,2.7,5.3,1.9,\"Virginica\"\\n6.8,3,5.5,2.1,\"Virginica\"\\n5.7,2.5,5,2,\"Virginica\"\\n5.8,2.8,5.1,2.4,\"Virginica\"\\n6.4,3.2,5.3,2.3,\"Virginica\"\\n6.5,3,5.5,1.8,\"Virginica\"\\n7.7,3.8,6.7,2.2,\"Virginica\"\\n7.7,2.6,6.9,2.3,\"Virginica\"\\n6,2.2,5,1.5,\"Virginica\"\\n6.9,3.2,5.7,2.3,\"Virginica\"\\n5.6,2.8,4.9,2,\"Virginica\"\\n7.7,2.8,6.7,2,\"Virginica\"\\n6.3,2.7,4.9,1.8,\"Virginica\"\\n6.7,3.3,5.7,2.1,\"Virginica\"\\n7.2,3.2,6,1.8,\"Virginica\"\\n6.2,2.8,4.8,1.8,\"Virginica\"\\n6.1,3,4.9,1.8,\"Virginica\"\\n6.4,2.8,5.6,2.1,\"Virginica\"\\n7.2,3,5.8,1.6,\"Virginica\"\\n7.4,2.8,6.1,1.9,\"Virginica\"\\n7.9,3.8,6.4,2,\"Virginica\"\\n6.4,2.8,5.6,2.2,\"Virginica\"\\n6.3,2.8,5.1,1.5,\"Virginica\"\\n6.1,2.6,5.6,1.4,\"Virginica\"\\n7.7,3,6.1,2.3,\"Virginica\"\\n6.3,3.4,5.6,2.4,\"Virginica\"\\n6.4,3.1,5.5,1.8,\"Virginica\"\\n6,3,4.8,1.8,\"Virginica\"\\n6.9,3.1,5.4,2.1,\"Virginica\"\\n6.7,3.1,5.6,2.4,\"Virginica\"\\n6.9,3.1,5.1,2.3,\"Virginica\"\\n5.8,2.7,5.1,1.9,\"Virginica\"\\n6.8,3.2,5.9,2.3,\"Virginica\"\\n6.7,3.3,5.7,2.5,\"Virginica\"\\n6.7,3,5.2,2.3,\"Virginica\"\\n6.3,2.5,5,1.9,\"Virginica\"\\n6.5,3,5.2,2,\"Virginica\"\\n6.2,3.4,5.4,2.3,\"Virginica\"\\n5.9,3,5.1,1.8,\"Virginica\"'"
      ]
     },
     "execution_count": 6,
     "metadata": {},
     "output_type": "execute_result"
    }
   ],
   "source": [
    "data"
   ]
  },
  {
   "cell_type": "markdown",
   "id": "9256ad78-dfcd-487c-89fc-0ac1d1979916",
   "metadata": {},
   "source": [
    "# 2.0 Data Preparation"
   ]
  },
  {
   "cell_type": "markdown",
   "id": "ba70b8a6-ef96-40cb-94f7-a28ec9fc3748",
   "metadata": {},
   "source": [
    "In the data preparation step, the ingested data to processed into the right format for model training."
   ]
  },
  {
   "cell_type": "code",
   "execution_count": 7,
   "id": "625242f8-887a-4ca3-bfd2-7f9705c6137b",
   "metadata": {},
   "outputs": [],
   "source": [
    "def data_preprocess(data_path, label_col='variety', output_path='./processed_data'):\n",
    "    '''Load newly ingested data and generate training and testing sets\n",
    "    \n",
    "    '''\n",
    "    p = pathlib.Path(data_path)\n",
    "    if p.exists() != True:\n",
    "        print(f'Cannot locate data at {data_path}')\n",
    "        return\n",
    "    \n",
    "    df = pd.read_csv(p)\n",
    "    \n",
    "    y = df.pop(label_col)\n",
    "    \n",
    "    # Encode labels\n",
    "    le = preprocessing.LabelEncoder()\n",
    "    le.fit(y)\n",
    "    y = le.transform(y)\n",
    "    y = pd.DataFrame(y, columns=[label_col])\n",
    "    \n",
    "    X = df\n",
    "    \n",
    "    X_train, X_test, y_train, y_test = train_test_split(X, y, test_size=0.33, stratify=y)\n",
    "    \n",
    "    p = pathlib.Path(output_path)\n",
    "    \n",
    "    if not p.exists(): p.mkdir(exist_ok=True)\n",
    "    X_train.to_csv(p / 'X_train.csv', index=False)\n",
    "    y_train.to_csv(p / 'y_train.csv', index=False)\n",
    "    X_test.to_csv(p / 'X_test.csv', index=False)\n",
    "    y_test.to_csv(p / 'y_test.csv', index=False)\n",
    "    \n",
    "    # Save label encoder\n",
    "    pickle.dump(le, open(p / 'labelEncoder.pkl', 'wb'))\n",
    "    \n",
    "    return X_train, y_train, X_test, y_test"
   ]
  },
  {
   "cell_type": "code",
   "execution_count": 8,
   "id": "95c35219-069a-4539-9b2d-323486215826",
   "metadata": {},
   "outputs": [],
   "source": [
    "# Stored path of newly ingested data\n",
    "data_path = './new_data.txt'"
   ]
  },
  {
   "cell_type": "code",
   "execution_count": 9,
   "id": "f0114041-c0a4-455f-932d-5ccd3f86e4f3",
   "metadata": {},
   "outputs": [],
   "source": [
    "X_train, y_train, X_test, y_test = data_preprocess(data_path)"
   ]
  },
  {
   "cell_type": "code",
   "execution_count": 10,
   "id": "de8c76e9-10bf-4438-8583-0ef53dbfdf91",
   "metadata": {},
   "outputs": [
    {
     "data": {
      "text/html": [
       "<div>\n",
       "<style scoped>\n",
       "    .dataframe tbody tr th:only-of-type {\n",
       "        vertical-align: middle;\n",
       "    }\n",
       "\n",
       "    .dataframe tbody tr th {\n",
       "        vertical-align: top;\n",
       "    }\n",
       "\n",
       "    .dataframe thead th {\n",
       "        text-align: right;\n",
       "    }\n",
       "</style>\n",
       "<table border=\"1\" class=\"dataframe\">\n",
       "  <thead>\n",
       "    <tr style=\"text-align: right;\">\n",
       "      <th></th>\n",
       "      <th>sepal.length</th>\n",
       "      <th>sepal.width</th>\n",
       "      <th>petal.length</th>\n",
       "      <th>petal.width</th>\n",
       "    </tr>\n",
       "  </thead>\n",
       "  <tbody>\n",
       "    <tr>\n",
       "      <th>72</th>\n",
       "      <td>6.3</td>\n",
       "      <td>2.5</td>\n",
       "      <td>4.9</td>\n",
       "      <td>1.5</td>\n",
       "    </tr>\n",
       "    <tr>\n",
       "      <th>46</th>\n",
       "      <td>5.1</td>\n",
       "      <td>3.8</td>\n",
       "      <td>1.6</td>\n",
       "      <td>0.2</td>\n",
       "    </tr>\n",
       "    <tr>\n",
       "      <th>145</th>\n",
       "      <td>6.7</td>\n",
       "      <td>3.0</td>\n",
       "      <td>5.2</td>\n",
       "      <td>2.3</td>\n",
       "    </tr>\n",
       "    <tr>\n",
       "      <th>22</th>\n",
       "      <td>4.6</td>\n",
       "      <td>3.6</td>\n",
       "      <td>1.0</td>\n",
       "      <td>0.2</td>\n",
       "    </tr>\n",
       "    <tr>\n",
       "      <th>144</th>\n",
       "      <td>6.7</td>\n",
       "      <td>3.3</td>\n",
       "      <td>5.7</td>\n",
       "      <td>2.5</td>\n",
       "    </tr>\n",
       "  </tbody>\n",
       "</table>\n",
       "</div>"
      ],
      "text/plain": [
       "     sepal.length  sepal.width  petal.length  petal.width\n",
       "72            6.3          2.5           4.9          1.5\n",
       "46            5.1          3.8           1.6          0.2\n",
       "145           6.7          3.0           5.2          2.3\n",
       "22            4.6          3.6           1.0          0.2\n",
       "144           6.7          3.3           5.7          2.5"
      ]
     },
     "execution_count": 10,
     "metadata": {},
     "output_type": "execute_result"
    }
   ],
   "source": [
    "X_train.head()"
   ]
  },
  {
   "cell_type": "code",
   "execution_count": 11,
   "id": "756fda77-8517-40fa-b7b6-b1c7034a706d",
   "metadata": {},
   "outputs": [
    {
     "data": {
      "text/html": [
       "<div>\n",
       "<style scoped>\n",
       "    .dataframe tbody tr th:only-of-type {\n",
       "        vertical-align: middle;\n",
       "    }\n",
       "\n",
       "    .dataframe tbody tr th {\n",
       "        vertical-align: top;\n",
       "    }\n",
       "\n",
       "    .dataframe thead th {\n",
       "        text-align: right;\n",
       "    }\n",
       "</style>\n",
       "<table border=\"1\" class=\"dataframe\">\n",
       "  <thead>\n",
       "    <tr style=\"text-align: right;\">\n",
       "      <th></th>\n",
       "      <th>variety</th>\n",
       "    </tr>\n",
       "  </thead>\n",
       "  <tbody>\n",
       "    <tr>\n",
       "      <th>72</th>\n",
       "      <td>1</td>\n",
       "    </tr>\n",
       "    <tr>\n",
       "      <th>46</th>\n",
       "      <td>0</td>\n",
       "    </tr>\n",
       "    <tr>\n",
       "      <th>145</th>\n",
       "      <td>2</td>\n",
       "    </tr>\n",
       "    <tr>\n",
       "      <th>22</th>\n",
       "      <td>0</td>\n",
       "    </tr>\n",
       "    <tr>\n",
       "      <th>144</th>\n",
       "      <td>2</td>\n",
       "    </tr>\n",
       "  </tbody>\n",
       "</table>\n",
       "</div>"
      ],
      "text/plain": [
       "     variety\n",
       "72         1\n",
       "46         0\n",
       "145        2\n",
       "22         0\n",
       "144        2"
      ]
     },
     "execution_count": 11,
     "metadata": {},
     "output_type": "execute_result"
    }
   ],
   "source": [
    "y_train.head()"
   ]
  },
  {
   "cell_type": "code",
   "execution_count": 12,
   "id": "46adcdb4-73aa-4414-a9a7-0940418fbf7b",
   "metadata": {},
   "outputs": [
    {
     "data": {
      "text/html": [
       "<div>\n",
       "<style scoped>\n",
       "    .dataframe tbody tr th:only-of-type {\n",
       "        vertical-align: middle;\n",
       "    }\n",
       "\n",
       "    .dataframe tbody tr th {\n",
       "        vertical-align: top;\n",
       "    }\n",
       "\n",
       "    .dataframe thead th {\n",
       "        text-align: right;\n",
       "    }\n",
       "</style>\n",
       "<table border=\"1\" class=\"dataframe\">\n",
       "  <thead>\n",
       "    <tr style=\"text-align: right;\">\n",
       "      <th></th>\n",
       "      <th>sepal.length</th>\n",
       "      <th>sepal.width</th>\n",
       "      <th>petal.length</th>\n",
       "      <th>petal.width</th>\n",
       "    </tr>\n",
       "  </thead>\n",
       "  <tbody>\n",
       "    <tr>\n",
       "      <th>117</th>\n",
       "      <td>7.7</td>\n",
       "      <td>3.8</td>\n",
       "      <td>6.7</td>\n",
       "      <td>2.2</td>\n",
       "    </tr>\n",
       "    <tr>\n",
       "      <th>112</th>\n",
       "      <td>6.8</td>\n",
       "      <td>3.0</td>\n",
       "      <td>5.5</td>\n",
       "      <td>2.1</td>\n",
       "    </tr>\n",
       "    <tr>\n",
       "      <th>43</th>\n",
       "      <td>5.0</td>\n",
       "      <td>3.5</td>\n",
       "      <td>1.6</td>\n",
       "      <td>0.6</td>\n",
       "    </tr>\n",
       "    <tr>\n",
       "      <th>94</th>\n",
       "      <td>5.6</td>\n",
       "      <td>2.7</td>\n",
       "      <td>4.2</td>\n",
       "      <td>1.3</td>\n",
       "    </tr>\n",
       "    <tr>\n",
       "      <th>23</th>\n",
       "      <td>5.1</td>\n",
       "      <td>3.3</td>\n",
       "      <td>1.7</td>\n",
       "      <td>0.5</td>\n",
       "    </tr>\n",
       "  </tbody>\n",
       "</table>\n",
       "</div>"
      ],
      "text/plain": [
       "     sepal.length  sepal.width  petal.length  petal.width\n",
       "117           7.7          3.8           6.7          2.2\n",
       "112           6.8          3.0           5.5          2.1\n",
       "43            5.0          3.5           1.6          0.6\n",
       "94            5.6          2.7           4.2          1.3\n",
       "23            5.1          3.3           1.7          0.5"
      ]
     },
     "execution_count": 12,
     "metadata": {},
     "output_type": "execute_result"
    }
   ],
   "source": [
    "X_test.head()"
   ]
  },
  {
   "cell_type": "code",
   "execution_count": 13,
   "id": "22ebca0f-4850-4189-89b4-13b11f36fa16",
   "metadata": {},
   "outputs": [
    {
     "data": {
      "text/html": [
       "<div>\n",
       "<style scoped>\n",
       "    .dataframe tbody tr th:only-of-type {\n",
       "        vertical-align: middle;\n",
       "    }\n",
       "\n",
       "    .dataframe tbody tr th {\n",
       "        vertical-align: top;\n",
       "    }\n",
       "\n",
       "    .dataframe thead th {\n",
       "        text-align: right;\n",
       "    }\n",
       "</style>\n",
       "<table border=\"1\" class=\"dataframe\">\n",
       "  <thead>\n",
       "    <tr style=\"text-align: right;\">\n",
       "      <th></th>\n",
       "      <th>variety</th>\n",
       "    </tr>\n",
       "  </thead>\n",
       "  <tbody>\n",
       "    <tr>\n",
       "      <th>117</th>\n",
       "      <td>2</td>\n",
       "    </tr>\n",
       "    <tr>\n",
       "      <th>112</th>\n",
       "      <td>2</td>\n",
       "    </tr>\n",
       "    <tr>\n",
       "      <th>43</th>\n",
       "      <td>0</td>\n",
       "    </tr>\n",
       "    <tr>\n",
       "      <th>94</th>\n",
       "      <td>1</td>\n",
       "    </tr>\n",
       "    <tr>\n",
       "      <th>23</th>\n",
       "      <td>0</td>\n",
       "    </tr>\n",
       "  </tbody>\n",
       "</table>\n",
       "</div>"
      ],
      "text/plain": [
       "     variety\n",
       "117        2\n",
       "112        2\n",
       "43         0\n",
       "94         1\n",
       "23         0"
      ]
     },
     "execution_count": 13,
     "metadata": {},
     "output_type": "execute_result"
    }
   ],
   "source": [
    "y_test.head()"
   ]
  },
  {
   "cell_type": "markdown",
   "id": "82084e1a-50e7-4644-b8c3-95d6a5179c1e",
   "metadata": {},
   "source": [
    "# 3.0 Training the Model"
   ]
  },
  {
   "cell_type": "markdown",
   "id": "cd5991c0-5db3-4340-8f94-bebb5062b425",
   "metadata": {},
   "source": [
    "In this step, we use the datasets to train and evaluate our model."
   ]
  },
  {
   "cell_type": "code",
   "execution_count": 14,
   "id": "a251f7aa-d173-4f88-8333-5be9e63e0a66",
   "metadata": {},
   "outputs": [],
   "source": [
    "def train_model(X_train_path, X_test_path, y_train_path, y_test_path, \n",
    "                n_estimator=1,\n",
    "                output_path = './models'):\n",
    "    '''Train and evaluate the model.\n",
    "    \n",
    "    '''\n",
    "    \n",
    "    X_train = pd.read_csv(X_train_path)\n",
    "    X_test = pd.read_csv(X_test_path)\n",
    "    y_train = pd.read_csv(y_train_path)\n",
    "    y_test = pd.read_csv(y_test_path)\n",
    "    \n",
    "    xgb_model = xgb.XGBClassifier(objective=\"multi:softprob\", \n",
    "                                  eval_metric='mlogloss',\n",
    "                                  random_state=42,\n",
    "                                  n_estimators=n_estimator,\n",
    "                                  use_label_encoder=False\n",
    "                                 )\n",
    "    xgb_model.fit(X_train, y_train)\n",
    "\n",
    "    y_pred = xgb_model.predict(X_test)\n",
    "    \n",
    "    print('Confusion matrix:')\n",
    "    print(confusion_matrix(y_test, y_pred))\n",
    "    print('\\n')\n",
    "    print('Accuracy score:')\n",
    "    print(accuracy_score(y_test, y_pred))\n",
    "    \n",
    "    # Save model\n",
    "    p = pathlib.Path(output_path)\n",
    "    if not p.exists(): p.mkdir(exist_ok=True)\n",
    "    pickle.dump(xgb_model, open(p / 'xgb.pkl', 'wb'))"
   ]
  },
  {
   "cell_type": "code",
   "execution_count": 15,
   "id": "a84e716a-c578-4e0b-a770-0ad5b5a56792",
   "metadata": {},
   "outputs": [],
   "source": [
    "# Specify training and testing data\n",
    "X_train_path = './processed_data/X_train.csv'\n",
    "X_test_path = './processed_data/X_test.csv'\n",
    "y_train_path = './processed_data/y_train.csv'\n",
    "y_test_path = './processed_data/y_test.csv'"
   ]
  },
  {
   "cell_type": "code",
   "execution_count": 16,
   "id": "c35b4a2f-532e-4d2a-9da4-29ddf72dd9ea",
   "metadata": {},
   "outputs": [
    {
     "name": "stdout",
     "output_type": "stream",
     "text": [
      "Confusion matrix:\n",
      "[[17  0  0]\n",
      " [ 0 16  0]\n",
      " [ 0  0 17]]\n",
      "\n",
      "\n",
      "Accuracy score:\n",
      "1.0\n"
     ]
    }
   ],
   "source": [
    "# Train the model\n",
    "train_model(X_train_path, X_test_path, y_train_path, y_test_path)"
   ]
  },
  {
   "cell_type": "code",
   "execution_count": 17,
   "id": "0ece1fd0-e5ac-4bd0-85b3-7680f4e9c241",
   "metadata": {},
   "outputs": [],
   "source": [
    "def plot_trees(model_path, n_estimator, n_class):\n",
    "    '''Plot decision trees in the model\n",
    "    \n",
    "    '''\n",
    "    model = pickle.load(open(model_path, 'rb'))\n",
    "    \n",
    "    for i in range(n_estimator * n_class):\n",
    "        plot_tree(model, num_trees=i, rankdir='LR')\n",
    "        plt.show()"
   ]
  },
  {
   "cell_type": "code",
   "execution_count": 18,
   "id": "af9b568f-13e3-499c-a112-38ff6e030d37",
   "metadata": {},
   "outputs": [],
   "source": [
    "model_path = './models/xgb.pkl'\n",
    "n_estimator = 1\n",
    "n_class = 3"
   ]
  },
  {
   "cell_type": "code",
   "execution_count": 19,
   "id": "48843368-7292-469e-a523-dd9c95c6a7fd",
   "metadata": {},
   "outputs": [
    {
     "data": {
      "image/png": "[encoded data removed]",
      "text/plain": [
       "<Figure size 432x288 with 1 Axes>"
      ]
     },
     "metadata": {
      "needs_background": "light"
     },
     "output_type": "display_data"
    },
    {
     "data": {
      "image/png": "[encoded data removed]",
      "text/plain": [
       "<Figure size 432x288 with 1 Axes>"
      ]
     },
     "metadata": {
      "needs_background": "light"
     },
     "output_type": "display_data"
    },
    {
     "data": {
      "image/png": "[encoded data removed]",
      "text/plain": [
       "<Figure size 432x288 with 1 Axes>"
      ]
     },
     "metadata": {
      "needs_background": "light"
     },
     "output_type": "display_data"
    }
   ],
   "source": [
    "plot_trees(model_path, n_estimator, n_class)"
   ]
  },
  {
   "cell_type": "markdown",
   "id": "3475bd81-63f2-4436-8141-684464f195d7",
   "metadata": {},
   "source": [
    "## 4.0 Deploy the Model"
   ]
  },
  {
   "cell_type": "markdown",
   "id": "140bbd35-cbbb-4155-bf87-d6bd920551c9",
   "metadata": {},
   "source": [
    "We will show how to deploy the model as a micro-service. To do that, we will convert step as a component and add a deploy step. This part is not shown in this notebook."
   ]
  },
  {
   "cell_type": "code",
   "execution_count": 20,
   "id": "21916921-bcb3-4e7c-85e3-5f7fbf319b94",
   "metadata": {},
   "outputs": [],
   "source": [
    "MODEL = pickle.load(open(model_path, 'rb'))"
   ]
  },
  {
   "cell_type": "code",
   "execution_count": 21,
   "id": "dad2d2ea-fddd-45c6-a814-820f7e0f8a66",
   "metadata": {},
   "outputs": [],
   "source": [
    "input_datapoint = np.array([5.5,2.4,3.8,1.1])"
   ]
  },
  {
   "cell_type": "code",
   "execution_count": 22,
   "id": "74ce0ccd-5809-4917-939a-f87779dce638",
   "metadata": {},
   "outputs": [
    {
     "data": {
      "text/plain": [
       "array([[5.5, 2.4, 3.8, 1.1]])"
      ]
     },
     "execution_count": 22,
     "metadata": {},
     "output_type": "execute_result"
    }
   ],
   "source": [
    "input_datapoint.reshape(-1, 4)"
   ]
  },
  {
   "cell_type": "code",
   "execution_count": 23,
   "id": "7b3f5e37-7380-4686-9aa2-3493bb00492c",
   "metadata": {},
   "outputs": [],
   "source": [
    "result = MODEL.predict(input_datapoint.reshape(1, 4))"
   ]
  },
  {
   "cell_type": "code",
   "execution_count": 24,
   "id": "a006e74c-0e1c-4625-a6f3-3a2854d2df0f",
   "metadata": {},
   "outputs": [
    {
     "data": {
      "text/plain": [
       "array([1])"
      ]
     },
     "execution_count": 24,
     "metadata": {},
     "output_type": "execute_result"
    }
   ],
   "source": [
    "result"
   ]
  },
  {
   "cell_type": "code",
   "execution_count": 25,
   "id": "15a13e78-e6a6-4588-ac5d-2f11cb2cbdeb",
   "metadata": {},
   "outputs": [],
   "source": [
    "label_encoder = pickle.load(open('./processed_data/labelEncoder.pkl', 'rb'))"
   ]
  },
  {
   "cell_type": "code",
   "execution_count": 26,
   "id": "33eeb3d9-96e4-48dd-ab0a-5c4f939fa799",
   "metadata": {},
   "outputs": [],
   "source": [
    "label = label_encoder.inverse_transform(result)"
   ]
  },
  {
   "cell_type": "code",
   "execution_count": 27,
   "id": "9bc46d3a-c63f-436e-88ff-f5d24bca11aa",
   "metadata": {},
   "outputs": [
    {
     "data": {
      "text/plain": [
       "array(['Versicolor'], dtype=object)"
      ]
     },
     "execution_count": 27,
     "metadata": {},
     "output_type": "execute_result"
    }
   ],
   "source": [
    "label"
   ]
  },
  {
   "cell_type": "code",
   "execution_count": 28,
   "id": "afe2b1bd-2af3-4e82-8fd2-4fea318b1d0f",
   "metadata": {},
   "outputs": [
    {
     "data": {
      "text/plain": [
       "['Versicolor']"
      ]
     },
     "execution_count": 28,
     "metadata": {},
     "output_type": "execute_result"
    }
   ],
   "source": [
    "label.tolist()"
   ]
  },
  {
   "cell_type": "code",
   "execution_count": null,
   "id": "324763c4-e503-49c6-bdd8-7794c5e3eccf",
   "metadata": {},
   "outputs": [],
   "source": []
  }
 ],
 "metadata": {
  "kernelspec": {
   "display_name": "Python 3 (ipykernel)",
   "language": "python",
   "name": "python3"
  },
  "language_info": {
   "codemirror_mode": {
    "name": "ipython",
    "version": 3
   },
   "file_extension": ".py",
   "mimetype": "text/x-python",
   "name": "python",
   "nbconvert_exporter": "python",
   "pygments_lexer": "ipython3",
   "version": "3.9.6"
  }
 },
 "nbformat": 4,
 "nbformat_minor": 5
}
